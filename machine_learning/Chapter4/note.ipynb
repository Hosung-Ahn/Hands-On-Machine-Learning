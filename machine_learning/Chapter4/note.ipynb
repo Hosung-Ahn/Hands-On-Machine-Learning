{
 "cells": [
  {
   "cell_type": "code",
   "execution_count": 1,
   "metadata": {},
   "outputs": [],
   "source": [
    "import pandas as pd\n",
    "import numpy as np\n",
    "import matplotlib.pyplot as plt\n",
    "import sklearn\n",
    "\n",
    "plt.style.use(\"classic\")"
   ]
  },
  {
   "cell_type": "markdown",
   "metadata": {},
   "source": [
    "$\\text{삶의 만족도} = \\theta_0 + \\theta_1 \\times \\text{1인당\\_GDP}$\n",
    "\n",
    "여기서 $\\theta_0 과 \\theta_1$ 은 모델의 파라미터이다. \n",
    "\n",
    "---"
   ]
  },
  {
   "cell_type": "markdown",
   "metadata": {},
   "source": [
    "#### $\\hat{y} = \\theta_0 + \\theta_1 \\times x_1 + \\theta_2 \\times x_2 + \\cdots + \\theta_n \\times x_n$\n",
    "\n",
    "- $\\hat{y}$ 는 예측값이다.\n",
    "\n",
    "- $n$ 은 특성의 수입니다.\n",
    "\n",
    "- $x_i$ 는 $i$ 번째 특성값입니다.\n",
    "\n",
    "- $\\theta_j$ 는 $j$ 번째 모델 파라미터입니다. (편향 $\\theta_0$ 과 특성 가중치 $\\theta_1, \\theta_2, \\cdots, \\theta_n$ 을 포함합니다)\n",
    "\n",
    "\n",
    "#### 벡터 표현) $\\hat{y} = h_\\theta(\\mathbf{x}) = \\theta \\cdot \\mathbf{x}$\n",
    "\n",
    "- $\\theta$ 는 편향 $\\theta_0$ 과 특성 가중치 $\\theta_1, \\theta_2, \\cdots, \\theta_n$ 을 포함하는 모델의 파라미터 벡터입니다.\n",
    "\n",
    "- $\\mathbf{x}$ 는 $x_0$ 에서 $x_n$ 까지 포함하는 샘플의 특성 벡터입니다. $x_0$ 는 항상 1입니다.\n",
    "\n",
    "- $\\theta \\cdot \\mathbf{x}$ 는 $\\theta$ 와 $\\mathbf{x}$ 의 점곱입니다. 이는 $\\theta_0 x_0 + \\theta_1 x_1 + \\cdots + \\theta_n x_n$ 과 같습니다.\n",
    "\n",
    "- $h_\\theta$ 는 모델 파라미터 $\\theta$ 를 사용한 가설 함수입니다.\n",
    "\n",
    "---\n",
    "\n",
    "\n",
    "\n"
   ]
  },
  {
   "cell_type": "markdown",
   "metadata": {},
   "source": [
    "### 점곱과 행렬곱의 구분\n",
    "\n",
    "#### 행렬곱 : (n, m) * (m, l) = (n, l) \n",
    "- 결과값이 행렬\n",
    "#### 접곱(스칼라곱, 점곱, 내적) = 두 벡터의 각 원소를 곱해 더한 값 \n",
    "- 결과값이 스칼라인 것\n",
    "\n",
    "### 참고\n",
    "#### $a \\cdot b = a^T b$\n",
    "- $a$ 와 $b$ 는 둘 다 벡터입니다.\n",
    "\n",
    "---\n",
    "\n",
    "\n"
   ]
  },
  {
   "cell_type": "markdown",
   "metadata": {},
   "source": [
    "### 선형 회귀 모델의 훈련과정\n",
    "\n",
    "#### 1. 모델 파라미터를 임의의 값으로 초기화\n",
    "#### 2. 훈련 세트에 대한 모델의 예측값과 실제값의 오차를 계산\n",
    "#### 3. 오차가 작아지는 방향으로 모델 파라미터를 조금씩 수정\n",
    "\n",
    "---\n",
    "\n",
    "### 선형 회귀 모델의 MSE(평균 제곱 오차) 비용 함수\n",
    "\n",
    "#### $MSE(\\mathbf{X}, h_\\theta) = \\frac{1}{m} \\sum_{i=1}^{m} (\\theta^T \\cdot \\mathbf{x}^{(i)} - y^{(i)})^2$\n",
    "\n",
    "- $x^{(i)}$ 는 $i$ 번째 샘플의 전체 특성값을 담은 벡터입니다.\n",
    "\n"
   ]
  },
  {
   "cell_type": "markdown",
   "metadata": {},
   "source": []
  },
  {
   "cell_type": "markdown",
   "metadata": {},
   "source": []
  },
  {
   "cell_type": "markdown",
   "metadata": {},
   "source": []
  },
  {
   "cell_type": "markdown",
   "metadata": {},
   "source": []
  },
  {
   "cell_type": "markdown",
   "metadata": {},
   "source": []
  },
  {
   "cell_type": "markdown",
   "metadata": {},
   "source": [
    "\n"
   ]
  },
  {
   "cell_type": "markdown",
   "metadata": {},
   "source": []
  },
  {
   "cell_type": "markdown",
   "metadata": {},
   "source": []
  },
  {
   "cell_type": "markdown",
   "metadata": {},
   "source": []
  },
  {
   "cell_type": "markdown",
   "metadata": {},
   "source": []
  },
  {
   "cell_type": "markdown",
   "metadata": {},
   "source": []
  },
  {
   "cell_type": "markdown",
   "metadata": {},
   "source": []
  },
  {
   "cell_type": "markdown",
   "metadata": {},
   "source": []
  },
  {
   "cell_type": "markdown",
   "metadata": {},
   "source": []
  }
 ],
 "metadata": {
  "kernelspec": {
   "display_name": "Python 3.10.2 64-bit",
   "language": "python",
   "name": "python3"
  },
  "language_info": {
   "codemirror_mode": {
    "name": "ipython",
    "version": 3
   },
   "file_extension": ".py",
   "mimetype": "text/x-python",
   "name": "python",
   "nbconvert_exporter": "python",
   "pygments_lexer": "ipython3",
   "version": "3.10.2"
  },
  "orig_nbformat": 4,
  "vscode": {
   "interpreter": {
    "hash": "369f2c481f4da34e4445cda3fffd2e751bd1c4d706f27375911949ba6bb62e1c"
   }
  }
 },
 "nbformat": 4,
 "nbformat_minor": 2
}

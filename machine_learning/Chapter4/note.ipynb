{
 "cells": [
  {
   "cell_type": "code",
   "execution_count": 18,
   "metadata": {},
   "outputs": [],
   "source": [
    "import pandas as pd\n",
    "import numpy as np\n",
    "import matplotlib.pyplot as plt\n",
    "import sklearn\n",
    "\n",
    "plt.style.use(\"classic\")"
   ]
  },
  {
   "cell_type": "markdown",
   "metadata": {},
   "source": [
    "$\\text{삶의 만족도} = \\theta_0 + \\theta_1 \\times \\text{1인당\\_GDP}$\n",
    "\n",
    "여기서 $\\theta_0 과 \\theta_1$ 은 모델의 파라미터이다. \n",
    "\n",
    "---"
   ]
  },
  {
   "cell_type": "markdown",
   "metadata": {},
   "source": [
    "#### $\\hat{y} = \\theta_0 + \\theta_1 \\times x_1 + \\theta_2 \\times x_2 + \\cdots + \\theta_n \\times x_n$\n",
    "\n",
    "- $\\hat{y}$ 는 예측값이다.\n",
    "\n",
    "- $n$ 은 특성의 수입니다.\n",
    "\n",
    "- $x_i$ 는 $i$ 번째 특성값입니다.\n",
    "\n",
    "- $\\theta_j$ 는 $j$ 번째 모델 파라미터입니다. (편향 $\\theta_0$ 과 특성 가중치 $\\theta_1, \\theta_2, \\cdots, \\theta_n$ 을 포함합니다)\n",
    "\n",
    "\n",
    "#### 벡터 표현) $\\hat{y} = h_\\theta(\\mathbf{x}) = \\theta \\cdot \\mathbf{x}$\n",
    "\n",
    "- $\\theta$ 는 편향 $\\theta_0$ 과 특성 가중치 $\\theta_1, \\theta_2, \\cdots, \\theta_n$ 을 포함하는 모델의 파라미터 벡터입니다.\n",
    "\n",
    "- $\\mathbf{x}$ 는 $x_0$ 에서 $x_n$ 까지 포함하는 샘플의 특성 벡터입니다. $x_0$ 는 항상 1입니다.\n",
    "\n",
    "- $\\theta \\cdot \\mathbf{x}$ 는 $\\theta$ 와 $\\mathbf{x}$ 의 점곱입니다. 이는 $\\theta_0 x_0 + \\theta_1 x_1 + \\cdots + \\theta_n x_n$ 과 같습니다.\n",
    "\n",
    "- $h_\\theta$ 는 모델 파라미터 $\\theta$ 를 사용한 가설 함수입니다.\n",
    "\n",
    "---\n",
    "\n",
    "\n",
    "\n"
   ]
  },
  {
   "cell_type": "markdown",
   "metadata": {},
   "source": [
    "### 점곱과 행렬곱의 구분\n",
    "\n",
    "#### 행렬곱 : (n, m) * (m, l) = (n, l) \n",
    "- 결과값이 행렬\n",
    "#### 접곱(스칼라곱, 점곱, 내적) = 두 벡터의 각 원소를 곱해 더한 값 \n",
    "- 결과값이 스칼라인 것\n",
    "\n",
    "### 참고\n",
    "#### $a \\cdot b = a^T b$\n",
    "- $a$ 와 $b$ 는 둘 다 벡터입니다.\n",
    "\n",
    "---\n",
    "\n",
    "\n"
   ]
  },
  {
   "cell_type": "markdown",
   "metadata": {},
   "source": [
    "### 선형 회귀 모델의 훈련과정\n",
    "\n",
    "#### 1. 모델 파라미터를 임의의 값으로 초기화\n",
    "#### 2. 훈련 세트에 대한 모델의 예측값과 실제값의 오차를 계산\n",
    "#### 3. 오차가 작아지는 방향으로 모델 파라미터를 조금씩 수정\n",
    "\n",
    "---\n",
    "\n",
    "### 선형 회귀 모델의 MSE(평균 제곱 오차) 비용 함수\n",
    "\n",
    "#### $MSE(\\mathbf{X}, h_\\theta) = \\frac{1}{m} \\sum_{i=1}^{m} (\\theta^T \\mathbf{x}^{(i)} - y^{(i)})^2$\n",
    "\n",
    "- $x^{(i)}$ 는 $i$ 번째 샘플의 전체 특성값을 담은 벡터입니다.\n",
    "\n",
    "---\n",
    "\n"
   ]
  },
  {
   "cell_type": "markdown",
   "metadata": {},
   "source": [
    "## 정규방정식\n",
    "\n",
    "#### $\\hat{\\theta} = (\\mathbf{X}^T \\mathbf{X})^{-1} \\mathbf{X}^T \\mathbf{y}$\n",
    "\n",
    "- $\\hat{\\theta}$ 는 비용 함수를 최소화하는 $\\theta$ 값입니다.\n",
    "\n",
    "- $\\mathbf{y}$ 는 $y^{(1)}$ 에서 $y^{(m)}$ 까지 포함하는 타깃 벡터입니다."
   ]
  },
  {
   "cell_type": "markdown",
   "metadata": {},
   "source": [
    "## 실험"
   ]
  },
  {
   "cell_type": "markdown",
   "metadata": {},
   "source": [
    "### 무작위로 생성한 선형 데이터"
   ]
  },
  {
   "cell_type": "code",
   "execution_count": 19,
   "metadata": {},
   "outputs": [
    {
     "data": {
      "text/plain": [
       "[<matplotlib.lines.Line2D at 0x1b7509c0fa0>]"
      ]
     },
     "execution_count": 19,
     "metadata": {},
     "output_type": "execute_result"
    },
    {
     "data": {
      "image/png": "[encoded data removed]",
      "text/plain": [
       "<Figure size 640x480 with 1 Axes>"
      ]
     },
     "metadata": {},
     "output_type": "display_data"
    }
   ],
   "source": [
    "# 3x+4 + noise 를 데이터로 생성합니다.\n",
    "X = 2 * np.random.rand(100, 1)\n",
    "y = 4 + 3 * X + np.random.randn(100, 1)\n",
    "\n",
    "plt.plot(X, y, \"b.\")"
   ]
  },
  {
   "cell_type": "markdown",
   "metadata": {},
   "source": [
    "### 정규방정식을 사용한 선형회귀\n"
   ]
  },
  {
   "cell_type": "code",
   "execution_count": 20,
   "metadata": {},
   "outputs": [
    {
     "data": {
      "text/plain": [
       "array([[4.14767685],\n",
       "       [2.91008205]])"
      ]
     },
     "execution_count": 20,
     "metadata": {},
     "output_type": "execute_result"
    }
   ],
   "source": [
    "X_b = np.c_[np.ones((100, 1)), X] # 모든 샘플에 x0 = 1을 추가합니다.\n",
    "theta_best = np.linalg.inv(X_b.T.dot(X_b)).dot(X_b.T).dot(y)\n",
    "theta_best\n"
   ]
  },
  {
   "cell_type": "code",
   "execution_count": 21,
   "metadata": {},
   "outputs": [
    {
     "data": {
      "text/plain": [
       "array([[ 4.14767685],\n",
       "       [ 9.96784096],\n",
       "       [15.78800507]])"
      ]
     },
     "execution_count": 21,
     "metadata": {},
     "output_type": "execute_result"
    }
   ],
   "source": [
    "# 새로운 샘플에 대한 예측\n",
    "X_new = np.array([[0],[2],[4]])\n",
    "X_new_b = np.c_[np.ones((3,1)), X_new] # 모든 샘플에 x0 = 1을 추가합니다.\n",
    "y_predict = X_new_b.dot(theta_best) \n",
    "y_predict"
   ]
  },
  {
   "cell_type": "code",
   "execution_count": 22,
   "metadata": {},
   "outputs": [
    {
     "data": {
      "image/png": "[encoded data removed]",
      "text/plain": [
       "<Figure size 640x480 with 1 Axes>"
      ]
     },
     "metadata": {},
     "output_type": "display_data"
    }
   ],
   "source": [
    "plt.plot(X_new, y_predict, \"r-\")\n",
    "plt.plot(X, y, \"b.\")\n",
    "plt.axis([0,2,0,15])\n",
    "plt.show()"
   ]
  },
  {
   "cell_type": "markdown",
   "metadata": {},
   "source": [
    "### 사이킷런을 이용한 선형 회귀"
   ]
  },
  {
   "cell_type": "code",
   "execution_count": 23,
   "metadata": {},
   "outputs": [
    {
     "name": "stdout",
     "output_type": "stream",
     "text": [
      "학습된 가중치와 절편 :\n",
      "[4.14767685] [[2.91008205]]\n",
      "\n",
      "새로운 샘플에 대한 예측 :\n",
      "[[ 4.14767685]\n",
      " [ 9.96784096]\n",
      " [15.78800507]]\n"
     ]
    }
   ],
   "source": [
    "from sklearn.linear_model import LinearRegression\n",
    "lin_reg = LinearRegression()\n",
    "lin_reg.fit(X, y)\n",
    "\n",
    "print(\"학습된 가중치와 절편 :\")\n",
    "print(lin_reg.intercept_, lin_reg.coef_, end=\"\\n\\n\")\n",
    "print(\"새로운 샘플에 대한 예측 :\")\n",
    "print(lin_reg.predict(X_new))"
   ]
  },
  {
   "cell_type": "markdown",
   "metadata": {},
   "source": [
    "### 계산복잡도\n",
    "\n",
    "#### 정규방정식\n",
    "\n",
    "- 특성 수에 따라서는 역행렬을 계산하는데 걸리는 시간이 $O(n^{2.4})$ 에서 $O(n^3)$ 사이입니다.\n",
    "\n",
    "#### 사이킷런으로 선형 회귀 수행\n",
    "\n",
    "- SVD(특이값 분해) 방법은 $O(n^2)$ 입니다.\n",
    "\n",
    "---"
   ]
  },
  {
   "cell_type": "markdown",
   "metadata": {},
   "source": [
    "# 경사 하강법\n",
    "\n",
    "## 배치 경사 하강법"
   ]
  },
  {
   "cell_type": "markdown",
   "metadata": {},
   "source": []
  },
  {
   "cell_type": "markdown",
   "metadata": {},
   "source": [
    "\n",
    "### 비용함수의 편도함수\n",
    "\n",
    "- $\\frac{\\partial}{\\partial \\theta_j} MSE(\\theta) = \\frac{2}{m} \\sum_{i=1}^{m} (\\theta^T \\mathbf{x}^{(i)} - y^{(i)}) x_j^{(i)}$\n",
    "\n",
    "### 비용함수의 그레이디언트 벡터\n",
    "\n",
    "- $\\nabla_\\theta MSE(\\theta) = \\begin{pmatrix} \\frac{\\partial}{\\partial \\theta_0} MSE(\\theta) \\\\ \\frac{\\partial}{\\partial \\theta_1} MSE(\\theta) \\\\ \\vdots \\\\ \\frac{\\partial}{\\partial \\theta_n} MSE(\\theta) \\end{pmatrix} = \\frac{2}{m} \\mathbf{X}^T (\\mathbf{X} \\theta - \\mathbf{y})$\n",
    "\n",
    "### 경사 하강법의 스텝\n",
    "\n",
    "- $\\theta^{(next step)} = \\theta - \\eta \\nabla_\\theta MSE(\\theta)$\n",
    "\n",
    "---"
   ]
  },
  {
   "cell_type": "markdown",
   "metadata": {},
   "source": [
    "### 경사하강법 구현"
   ]
  },
  {
   "cell_type": "code",
   "execution_count": 24,
   "metadata": {},
   "outputs": [
    {
     "name": "stdout",
     "output_type": "stream",
     "text": [
      "[[4.14767685]\n",
      " [2.91008205]]\n"
     ]
    }
   ],
   "source": [
    "\n",
    "eta = 0.1 # 학습률\n",
    "n_iterations = 1000\n",
    "m = 100 \n",
    "\n",
    "theta = np.random.randn(2,1) # 무작위 초기화\n",
    "\n",
    "for iterations in range(n_iterations) :\n",
    "    gradients = 2/m * X_b.T.dot(X_b.dot(theta) - y)\n",
    "    theta = theta - eta * gradients\n",
    "    \n",
    "print(theta)"
   ]
  },
  {
   "cell_type": "markdown",
   "metadata": {},
   "source": [
    "---\n",
    "\n",
    "## 확률적 경사 하강법\n",
    "\n",
    "- 배치 경사 하강법은 매 스텝에서 전체 훈련 세트를 사용하여 그레이디언트를 계산합니다. 이와 달리 확률적 경사 하강법은 매 스텝에서 딱 한 개의 샘플을 무작위로 선택하여 그레이디언트를 계산합니다.\n",
    "\n",
    "### 배치 경사 하강법과 확률적 경사 하강법의 비교\n",
    "\n",
    "### 확률적 경사 하강법의 장점\n",
    "\n",
    "- 매우 큰 훈련 세트를 다룰 수 있습니다.\n",
    "\n",
    "- 훈련이 매우 빠릅니다.\n",
    "\n",
    "- 비용함수가 불규칙적일 경우 지역 최솟값을 건너뛸 가능성이 높습니다. (불안전성 때문)\n",
    "\n",
    "### 확률적 경사 하강법의 단점\n",
    "\n",
    "- 확률적이기 때문에 배치 경사 하강법보다 훨씬 불안정합니다.\n",
    "\n",
    "- 비용 함수가 최솟값에 다다르면 훈련을 중지해야 합니다.\n",
    "\n",
    "\n",
    "### 학습 스케줄\n",
    "\n",
    "- 확률적 경사하강법에서는 비용함수가 최솟값에 안착하는게 불안정적이므로 학습률을 점진적으로 줄이는 기법을 사용합니다. 이때 학습률을 결정하는 함수를 학습 스케줄이라고 합니다."
   ]
  },
  {
   "cell_type": "markdown",
   "metadata": {},
   "source": [
    "### 학습 스케쥴을 사용한 확률적 경사 하강법의 구현\n"
   ]
  },
  {
   "cell_type": "code",
   "execution_count": 25,
   "metadata": {},
   "outputs": [
    {
     "name": "stdout",
     "output_type": "stream",
     "text": [
      "[[4.17908727]\n",
      " [2.88764774]]\n"
     ]
    }
   ],
   "source": [
    "n_epochs = 50\n",
    "t0, t1 = 5, 50 # 학습 스케줄 하이퍼파라미터\n",
    "\n",
    "def learning_schedule(t) :\n",
    "    return t0 / (t + t1)\n",
    "\n",
    "for epoch in range(n_epochs) :\n",
    "    for i in range(m) : \n",
    "        random_index = np.random.randint(m)\n",
    "        xi = X_b[random_index:random_index+1]\n",
    "        y1 = y[random_index:random_index+1]\n",
    "        gradients = 2 * xi.T.dot(xi.dot(theta) - y1)\n",
    "        eta = learning_schedule(epoch * m + i)\n",
    "        theta = theta - eta * gradients\n",
    "        \n",
    "print(theta)\n",
    "        \n",
    "        "
   ]
  },
  {
   "cell_type": "markdown",
   "metadata": {},
   "source": [
    "### 사이킷런을 이용한 확률적 경사하강법"
   ]
  },
  {
   "cell_type": "code",
   "execution_count": 26,
   "metadata": {},
   "outputs": [
    {
     "name": "stdout",
     "output_type": "stream",
     "text": [
      "[4.07935067] [2.98091502]\n"
     ]
    }
   ],
   "source": [
    "from sklearn.linear_model import SGDRegressor\n",
    "# epoch = 최대 1000번, 최소 손실률 = 1e-3, 규제 없음, 학습률 = 0.1(기본 학습 스키쥴을 사용)\n",
    "sgd_reg = SGDRegressor(max_iter=1000, tol=1e-3, penalty=None, eta0=0.1)\n",
    "sgd_reg.fit(X, y.ravel())\n",
    "\n",
    "print(sgd_reg.intercept_, sgd_reg.coef_)"
   ]
  },
  {
   "cell_type": "markdown",
   "metadata": {},
   "source": [
    "## 미니 배치 경사 하강법\n",
    "\n",
    "- 미니 배치 경사 하강법은 각 스텝에서 전체 훈련 세트나 하나의 샘플을 기반으로 그레이디언트를 계산하는 것이 아니라 미니 배치라고 부르는 임의의 작은 샘플 세트에 대해 그레이디언트를 계산합니다."
   ]
  },
  {
   "cell_type": "markdown",
   "metadata": {},
   "source": [
    "### 선형 회귀를 사용한 알고리즘 비교\n",
    "\n",
    "- 정규방정식 : $\\mathbf{X}^T \\mathbf{X}$ 의 역행렬을 계산해야 하므로 특성 수가 많아지면 역행렬을 계산하는데 시간이 오래 걸립니다.\n",
    "\n",
    "- SVD : 특성 수에 따라 계산복잡도가 $O(n^2)$ 에서 $O(n^3)$ 사이입니다.\n",
    "\n",
    "- 배치 경사 하강법 : 특성 수에 민감하지 않지만 훈련 세트가 커지면 매우 느려집니다.\n",
    "\n",
    "- 확률적 경사 하강법 : 훈련 세트가 커지면 훨씬 빠릅니다. 하지만 배치 경사 하강법보다 불안정합니다.\n",
    "\n",
    "- 미니 배치 경사 하강법 : 배치 경사 하강법보다 빠르고 안정적입니다. 하지만 지역 최솟값에서 탈출하는 것이 더 힘듭니다.\n",
    "\n",
    "---"
   ]
  },
  {
   "cell_type": "markdown",
   "metadata": {},
   "source": [
    "# 다항 회귀\n",
    "\n",
    "- 비선형 데이터를 학습하는데 선형 모델을 사용할 수 있습니다. 각 특성의 거듭제곱을 새로운 특성으로 추가하고, 이 확장된 특성을 포함한 데이터셋에 선형 모델을 훈련시킵니다."
   ]
  },
  {
   "cell_type": "code",
   "execution_count": 27,
   "metadata": {},
   "outputs": [
    {
     "data": {
      "text/plain": [
       "[<matplotlib.lines.Line2D at 0x1b750a7e1d0>]"
      ]
     },
     "execution_count": 27,
     "metadata": {},
     "output_type": "execute_result"
    },
    {
     "data": {
      "image/png": "[encoded data removed]",
      "text/plain": [
       "<Figure size 640x480 with 1 Axes>"
      ]
     },
     "metadata": {},
     "output_type": "display_data"
    }
   ],
   "source": [
    "m = 100\n",
    "X = 6 * np.random.rand(m, 1) - 3\n",
    "y = 0.5 * X**2 + X + 2 + np.random.randn(m,1)\n",
    "\n",
    "plt.plot(X, y, \"b.\")"
   ]
  },
  {
   "cell_type": "markdown",
   "metadata": {},
   "source": [
    "- 직선은 위 데이터와 잘 맞지 않습니다. 그러므로 특성을 추가하여 데이터를 변형시키는 것이 필요합니다. 여기서는 특성의 제곱을 새로운 특성으로 추가합니다."
   ]
  },
  {
   "cell_type": "code",
   "execution_count": 28,
   "metadata": {},
   "outputs": [
    {
     "name": "stdout",
     "output_type": "stream",
     "text": [
      "[2.117534]\n",
      "[2.117534   4.48395026]\n"
     ]
    }
   ],
   "source": [
    "from sklearn.preprocessing import PolynomialFeatures\n",
    "poly_features = PolynomialFeatures(degree=2, include_bias=False)\n",
    "X_poly = poly_features.fit_transform(X)\n",
    "print(X[0])\n",
    "print(X_poly[0])"
   ]
  },
  {
   "cell_type": "code",
   "execution_count": 29,
   "metadata": {},
   "outputs": [
    {
     "name": "stdout",
     "output_type": "stream",
     "text": [
      "[2.29008015] [[1.00048796 0.44494946]]\n"
     ]
    }
   ],
   "source": [
    "lin_reg = LinearRegression()\n",
    "lin_reg.fit(X_poly, y)\n",
    "print(lin_reg.intercept_, lin_reg.coef_)"
   ]
  },
  {
   "cell_type": "code",
   "execution_count": 30,
   "metadata": {},
   "outputs": [
    {
     "data": {
      "image/png": "[encoded data removed]",
      "text/plain": [
       "<Figure size 640x480 with 1 Axes>"
      ]
     },
     "metadata": {},
     "output_type": "display_data"
    }
   ],
   "source": [
    "X_new=np.linspace(-3, 3, 100).reshape(100, 1) \n",
    "X_new_poly = poly_features.transform(X_new) \n",
    "y_new = lin_reg.predict(X_new_poly) \n",
    "\n",
    "plt.plot(X, y, \"b.\") \n",
    "plt.plot(X_new, y_new, \"r-\", linewidth=2, label=\"Predictions\")\n",
    "plt.xlabel(\"$x_1$\", fontsize=18)\n",
    "plt.ylabel(\"$y$\", rotation=0, fontsize=18)\n",
    "plt.legend(loc=\"upper left\", fontsize=14)\n",
    "plt.axis([-3, 3, 0, 10])\n",
    "plt.show() \n"
   ]
  }
 ],
 "metadata": {
  "kernelspec": {
   "display_name": "Python 3.10.2 64-bit",
   "language": "python",
   "name": "python3"
  },
  "language_info": {
   "codemirror_mode": {
    "name": "ipython",
    "version": 3
   },
   "file_extension": ".py",
   "mimetype": "text/x-python",
   "name": "python",
   "nbconvert_exporter": "python",
   "pygments_lexer": "ipython3",
   "version": "3.10.2"
  },
  "orig_nbformat": 4,
  "vscode": {
   "interpreter": {
    "hash": "369f2c481f4da34e4445cda3fffd2e751bd1c4d706f27375911949ba6bb62e1c"
   }
  }
 },
 "nbformat": 4,
 "nbformat_minor": 2
}
